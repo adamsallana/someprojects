{
  "nbformat": 4,
  "nbformat_minor": 0,
  "metadata": {
    "colab": {
      "name": "rps.ipynb",
      "provenance": [],
      "collapsed_sections": []
    },
    "kernelspec": {
      "name": "python3",
      "display_name": "Python 3"
    },
    "language_info": {
      "name": "python"
    }
  },
  "cells": [
    {
      "cell_type": "code",
      "execution_count": 22,
      "metadata": {
        "colab": {
          "base_uri": "https://localhost:8080/"
        },
        "id": "aNPWkjekkk1N",
        "outputId": "cbdb167f-a1f4-46b7-f34b-cbe55d0173a3"
      },
      "outputs": [
        {
          "name": "stdout",
          "output_type": "stream",
          "text": [
            "\n",
            "Rock, Paper, or Scissors?\n",
            "\n",
            "Enter: scissors\n",
            "\n",
            "Sorry, better luck next time.\n",
            "\n",
            "You chose scissors. \n",
            "The computer chose rock.\n",
            "\n",
            "Do you want to play again?\n",
            "\n",
            "Y/N:n\n"
          ]
        }
      ],
      "source": [
        "# What to chose?\n",
        "# rps\n",
        "\n",
        "# import random module for number generator\n",
        "import random\n",
        "\n",
        "while True:\n",
        "  # Prompt for input\n",
        "  print(\"\\nRock, Paper, or Scissors?\\n\")\n",
        "  val = input(\"Enter: \")\n",
        "\n",
        "  # checking if input is valid\n",
        "  if val.lower() == \"rock\" or val.lower() == \"paper\" or val.lower() == \"scissors\":\n",
        "    pass\n",
        "  else:\n",
        "    print(\"Error-- value does not match designated input\")\n",
        "    continue\n",
        "\n",
        "  # Assigning r, p, and s to num vals\n",
        "  rock, paper, scissors = 1, 2, 3\n",
        "  # Finding random number to represent comp. answer\n",
        "  randnum = random.randint(1, 3)\n",
        "\n",
        "  # All results if \"rock\" was inputted, etc.\n",
        "  if val.lower() == \"rock\":\n",
        "    if randnum == 2:\n",
        "      result = \"LOSE\"\n",
        "    if randnum == 3:\n",
        "      result = \"WIN\"\n",
        "    else:\n",
        "      result = \"TIE\"\n",
        "\n",
        "  elif val.lower() == \"paper\":\n",
        "    if randnum == 1:\n",
        "      result = \"WIN\"\n",
        "    if randnum == 3:\n",
        "      result = \"LOSE\"\n",
        "    else:\n",
        "      result = \"TIE\"\n",
        "\n",
        "  elif val.lower() == \"scissors\":\n",
        "    if randnum == 1:\n",
        "      result = \"LOSE\"\n",
        "    if randnum == 2:\n",
        "      result = \"WIN\"\n",
        "    if randnum == 3:\n",
        "      result = \"TIE\"\n",
        "\n",
        "  # Display messages\n",
        "  if result == \"WIN\":\n",
        "    print(\"\\nCongrats-- you won!\\n\")\n",
        "  elif result == \"LOSE\":\n",
        "    print(\"\\nSorry, better luck next time.\\n\")\n",
        "  elif result == \"TIE\":\n",
        "    print(\"\\nIt was a draw! Looks like you're evenly matched\\n\")\n",
        "\n",
        "  # Assigning \"computer's\" value to r, p, or s\n",
        "  if randnum == 1:\n",
        "    computerAnswer = \"rock\"\n",
        "  if randnum == 2:\n",
        "    computerAnswer = \"paper\"\n",
        "  if randnum == 3:\n",
        "    computerAnswer = \"scissors\"\n",
        "\n",
        "  print(\"You chose\", val + \".\", \"\\nThe computer chose\", computerAnswer + \".\\n\")\n",
        "\n",
        "  # Play again?\n",
        "  playAgain = input(\"Do you want to play again?\\n\\nY/N:\")\n",
        "  if playAgain.lower() == \"n\":\n",
        "    break # break if user does not want to continue\n",
        "  else:\n",
        "    continue"
      ]
    }
  ]
}